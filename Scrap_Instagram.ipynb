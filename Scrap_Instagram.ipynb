{
 "cells": [
  {
   "cell_type": "markdown",
   "id": "c928c353",
   "metadata": {},
   "source": [
    "# Contexto\n",
    "\n",
    " Atualmente, o **Instagram** é uma das principais plataformas de mídia social utilizadas para **marketing**. Optamos por utilizar **hashtags (#)** para pegar os **textos e comentários das publicações (posts)**, pois elas são uma excelente maneira de aumentar a visibilidade dos **posts** e alcançar um público-alvo específico. No nosso caso, estamos focando nas pessoas que consomem **barras de cereais**.\n",
    "\n",
    " Ao utilizar **hashtags relevantes nos posts**, permite-se que as pessoas interessadas nesse tema encontrem **facilmente o conteúdo**, pois as **hashtags** direcionam o conteúdo para aqueles que estão procurando **informações específicas** sobre **barras de cereais**.\n",
    "\n",
    " Portanto, ao adotar essa estratégia de pesquisar pelas **hashtags relevantes**, alcança-se diretamente o **público** que busca informações sobre **barras de cereais**.\n",
    "\n",
    " Para atingirmos um **público maior**, realizamos as pesquisas com **sinônimos de barras de cereais**, onde utilizamos **diversas hashtags relevantes**, como:\n",
    "\n",
    "- #BarraProteica\n",
    "- #BarraDeProteina\n",
    "- #BarraDeCereal\n",
    "- #BarraEnergética\n",
    "- #BarraDeGranola\n",
    "- #BarraNutritiva\n",
    "- #BarradeCereais\n",
    "- #BarrinhaSaudavel\n",
    "- #BoldSnacks\n",
    "- #WheyBar\n",
    "- #BarrinhaFit"
   ]
  },
  {
   "cell_type": "markdown",
   "id": "3151d957",
   "metadata": {},
   "source": [
    "## Bibliotecas"
   ]
  },
  {
   "cell_type": "code",
   "execution_count": 1,
   "id": "e5052d03",
   "metadata": {},
   "outputs": [],
   "source": [
    "from selenium import webdriver\n",
    "from selenium.webdriver.common.keys import Keys\n",
    "from selenium.webdriver.common.by import By\n",
    "from selenium.common.exceptions import NoSuchElementException, TimeoutException\n",
    "from selenium.webdriver.support.ui import WebDriverWait\n",
    "from selenium.webdriver.support import expected_conditions as EC\n",
    "import time\n",
    "from tqdm import tqdm\n",
    "import pandas as pd\n",
    "import csv"
   ]
  },
  {
   "cell_type": "markdown",
   "id": "506df15d",
   "metadata": {},
   "source": [
    "## Lista de palavras/ termos usados para fazer a raspagem no Instagram"
   ]
  },
  {
   "cell_type": "code",
   "execution_count": 1,
   "id": "aae2325e",
   "metadata": {},
   "outputs": [],
   "source": [
    "list_words = [\"#barra proteica\",\"#barra de proteina\", \"#barra de cereal\", \"#barra energética\",\n",
    "              \"#barra de granola\", \"#barra nutritiva\", \"#barra de cereais\", \"#barrinha saudavel\",\n",
    "              \"#bold snacks\", \"#whey bar\", \"barrinha fit\"]\n",
    "list_words = [string.replace(\" \", \"\") for string in list_words]"
   ]
  },
  {
   "cell_type": "markdown",
   "id": "99a2ff44",
   "metadata": {},
   "source": [
    "## Abre o navegador e acessa o Instagram"
   ]
  },
  {
   "cell_type": "code",
   "execution_count": 3,
   "id": "5bc7e46f",
   "metadata": {},
   "outputs": [],
   "source": [
    "driver = webdriver.Safari()\n",
    "driver.get(f\"https://www.instagram.com/\")\n",
    "time.sleep(2)"
   ]
  },
  {
   "cell_type": "markdown",
   "id": "4c338b54",
   "metadata": {},
   "source": [
    "## Funções que servem para esperar até que um elemento esteja presente ou seja localizado no Instagram\n",
    "\n",
    "- Usamos a classe **WebDriverWait** fornecida pela biblioteca do Selenium\n",
    "- Ambas as funções tem um tempo de espera de **5 segundos**, e caso o elemento não for encontrado dentro de 5 segundos, uma exceção **TimeoutException**  será retornada"
   ]
  },
  {
   "cell_type": "code",
   "execution_count": 4,
   "id": "fd2dc393",
   "metadata": {},
   "outputs": [],
   "source": [
    "def wait_for_element(element, address):\n",
    "    return WebDriverWait(driver, 5).until(EC.presence_of_element_located((element, address)))\n",
    "\n",
    "def wait_for_elementS(element, address):\n",
    "    return WebDriverWait(driver, 5).until(lambda driver: driver.find_elements(element, address))"
   ]
  },
  {
   "cell_type": "markdown",
   "id": "e0c3b6e9",
   "metadata": {},
   "source": [
    "## Preenchimento do Login (Usuário e Senha)\n",
    "- O **delay** usado no campo de senha, é utilizado para adicionar um **atraso** de **1 segundo** entre o envio de cada caractere da **senha**, pois caso não haja esse delay, o campo da senha será preechido no campo do usuário"
   ]
  },
  {
   "cell_type": "code",
   "execution_count": 5,
   "id": "e00f0b0a",
   "metadata": {},
   "outputs": [],
   "source": [
    "user_name = wait_for_element(By.CSS_SELECTOR, \"input[name='username']\")\n",
    "user_name.send_keys(\"seu_user\")\n",
    "\n",
    "password = wait_for_element(By.CSS_SELECTOR, \"input[name='password']\")\n",
    "pswd = \"sua_senha\"\n",
    "delay = 1\n",
    "for char in pswd:\n",
    "    password.send_keys(char)\n",
    "    time.sleep(delay)"
   ]
  },
  {
   "cell_type": "markdown",
   "id": "22431bac",
   "metadata": {},
   "source": [
    "## Clica no botão de ENTRAR , após o preenchimento do Login"
   ]
  },
  {
   "cell_type": "code",
   "execution_count": 6,
   "id": "8be876d7",
   "metadata": {},
   "outputs": [],
   "source": [
    "time.sleep(5)\n",
    "login_button = wait_for_element(By.CSS_SELECTOR, \"button[type='submit']\")\n",
    "login_button.click()"
   ]
  },
  {
   "cell_type": "markdown",
   "id": "f98f8d80",
   "metadata": {},
   "source": [
    "## Clica no botão de AGORA NÃO, em \"Salvar suas informações de login?\"\n",
    "- Esse botão nem sempre é exibido, então usamos o try-except: \n",
    "  - Try: Clicará no botão **Agora não** quando a mensagem **Salvar suas informações de login?** for exibida\n",
    "  - Except: Caso o elemento não seja encontado, será retornado a exceção **NoSuchElementException**, onde será executado o comando **pass** (O comando pass é utilizado para indicar que nenhuma ação adicional deve ser realizada, dessa maneira, passando para a próxima célula)\n",
    "                                                          "
   ]
  },
  {
   "cell_type": "code",
   "execution_count": 7,
   "id": "9c910d87",
   "metadata": {},
   "outputs": [],
   "source": [
    "try:\n",
    "    not_now_button = wait_for_element(By.CLASS_NAME, \"_ac8f\")\n",
    "    not_now_button.click()\n",
    "except NoSuchElementException:\n",
    "    pass"
   ]
  },
  {
   "cell_type": "markdown",
   "id": "359b2d73",
   "metadata": {},
   "source": [
    "## Clica no botão de AGORA NÃO, em \"Ativar notificações?\"\n",
    "- O **not_now_buttons** retorna uma lista contendo todos os elementos que correspondem a classe **_a9--**\n",
    "- O **for** irá percorrer cada elmento da lista, e quando encontrar o texto do botão **Agora não**, irá clicar no botão e interromper a interação (**break**)"
   ]
  },
  {
   "cell_type": "code",
   "execution_count": 8,
   "id": "f56727af",
   "metadata": {},
   "outputs": [],
   "source": [
    "not_now_buttons = wait_for_elementS(By.CLASS_NAME, \"_a9--\")\n",
    "for button in not_now_buttons:\n",
    "    if button.text == \"Agora não\":\n",
    "        button.click()\n",
    "        break"
   ]
  },
  {
   "cell_type": "markdown",
   "id": "4d66f482",
   "metadata": {},
   "source": [
    "## Função get_search (Obtém pesquisa)\n",
    "- Primeiro a funcão irá clicar na **lupa de pesquisa**\n",
    "- Após clicar na lupa de pesquisa, a função irá **digitar a palavra/termo** que se deseja **pesquisar**\n",
    "- Após digitar a palavra/termo que se deseja pesquisar, a função dará um **duplo clique (ENTER)** para entrar na página da **hashtag (#)** pesquisada\n",
    "- Após entrar na página da hashtag (#) pesquisada, a função irá clicar no **primeiro post** encontrado"
   ]
  },
  {
   "cell_type": "code",
   "execution_count": 9,
   "id": "a7425033",
   "metadata": {},
   "outputs": [],
   "source": [
    "def get_search(list_words):\n",
    "    time.sleep(3)\n",
    "    button_search = wait_for_element(By.XPATH, \"//*[@aria-label='Pesquisa']\")\n",
    "    button_search.click()\n",
    "    \n",
    "    time.sleep(3)\n",
    "    button_search_name = wait_for_element(By.XPATH, \"//*[@aria-label='Entrada da pesquisa']\")\n",
    "    button_search_name.send_keys(list_words)\n",
    "    \n",
    "    time.sleep(3)\n",
    "    button_search_name.send_keys(Keys.RETURN)\n",
    "    button_search_name.send_keys(Keys.RETURN)\n",
    "    \n",
    "    time.sleep(3)\n",
    "    fisrt_post = wait_for_element(By.CLASS_NAME, \"_aagu\")\n",
    "    fisrt_post.click()"
   ]
  },
  {
   "cell_type": "markdown",
   "id": "429058d4",
   "metadata": {},
   "source": [
    "## Função extract_text_and_comments_from_posts (Extrair texto e comentários de postagens)\n",
    "- **with tqdm(total=number_of_posts, desc=\"Carregando posts\") as pbar:** cria uma barra de progresso que irá acompanhar o loop que extrai o texto e os comentários dos posts\n",
    "- O **for** criará um loop com a quantidade de posts (**number_of_posts**) que se deseja **extrair**, e dentro dele executará os seguintes passos da função:\n",
    "    - Primeiro a função irá tentar (try) **extrair o texto dos post e adicionar na lista (list_text)** \n",
    "    - Depois a função irá tentar (try) **extrair os comentário de cada post e adicioar na lista (list_comments)**  \n",
    "    - Depois de tentar (try) extrair o texto e comentários do post, a função irá clicar no botão **Avançar**, ou seja, irá para o próximo post\n",
    "    - Nos 3 passos anteriores, caso o *try* não funcione, ou seja, caso o **elemento não seja encontrado na página web**, será executado o **exept**, onde retornará as exceções **NoSuchElementException ou TimeoutException**, onde será executado o comando **pass** (O comando pass é utilizado para indicar que nenhuma ação adicional deve ser realizada, dessa maneira, continuando o loop)\n",
    "- O **if** irá adicionar um tempo de **espera** de **10 segundos a cada 50 posts**, pois caso essa condição não seja adicionada, o instagram **banirá a conta por atividade suspeita**\n",
    "- Após o **for** ser executado, e ter **populado** as listas **list_text** e **list_comments**, elas serão adicionadas em um dataframe e **retornadas** para que possamos usálas fora da função"
   ]
  },
  {
   "cell_type": "code",
   "execution_count": 10,
   "id": "6d2e1a16",
   "metadata": {},
   "outputs": [],
   "source": [
    "def extract_text_and_comments_from_posts(number_of_posts):\n",
    "    list_text = []\n",
    "    list_comments = []\n",
    "    \n",
    "    with tqdm(total=number_of_posts, desc=\"Carregando posts\") as pbar:\n",
    "        for x in range(number_of_posts):\n",
    "            time.sleep(0.5)\n",
    "            try:\n",
    "                extract_text = wait_for_element(By.CLASS_NAME, \"_a9zs\")  \n",
    "                list_text.append(extract_text.text)\n",
    "            except (NoSuchElementException, TimeoutException):\n",
    "                pass \n",
    "\n",
    "            try:\n",
    "                comments = driver.find_elements(By.XPATH, \"//span[contains(@class, '_aacl')]\")\n",
    "                comment_texts = [comment.text for comment in comments]\n",
    "                list_comments.extend(comment_texts)\n",
    "            except (NoSuchElementException, TimeoutException):\n",
    "                pass\n",
    "\n",
    "            try:\n",
    "                button_search = wait_for_element(By.XPATH, \"//*[@aria-label='Avançar']\")\n",
    "                button_search.click()\n",
    "            except (NoSuchElementException, TimeoutException):\n",
    "                pass\n",
    "\n",
    "            pbar.update(1)\n",
    "\n",
    "            if (x + 1) % 50 == 0:\n",
    "                time.sleep(10)\n",
    "\n",
    "    df_text = pd.DataFrame(list_text, columns=[\"Text\"])\n",
    "    df_comments = pd.DataFrame(list_comments, columns=[\"Comentários\"])\n",
    "    return df_text, df_comments\n"
   ]
  },
  {
   "cell_type": "markdown",
   "id": "c0d02c94",
   "metadata": {},
   "source": [
    "## Função execute_functions (Executa as funções)\n",
    "- Essa função irá executar as funções **get_search** e **extract_text_and_comments_from_posts** \n",
    "- A função também transformará os dataframes em listas, para que possamos adicionálas nas listas **all_text** e **all_comments** e assim usarmos elas fora da função"
   ]
  },
  {
   "cell_type": "code",
   "execution_count": 11,
   "id": "4c939d91",
   "metadata": {},
   "outputs": [],
   "source": [
    "def execute_functions(word,number_of_posts):\n",
    "    all_text = []\n",
    "    all_comments = []\n",
    "    \n",
    "    get_search(word)\n",
    "    list_text_posts, list_comments_posts = extract_text_and_comments_from_posts(number_of_posts)\n",
    "    all_text.extend(list_text_posts.values.tolist())\n",
    "    all_comments.extend(list_comments_posts.values.tolist())\n",
    "    return all_text, all_comments"
   ]
  },
  {
   "cell_type": "markdown",
   "id": "600603d1",
   "metadata": {},
   "source": [
    "## Função save_csv (Salva em CSV)\n",
    "- A função **salva os arquivos em CSVs** na máquina da pessoa (caso a pasta esteja no mesmo local que o Jupyter)\n",
    "- E **trasnforma** as listas em **DataFrames**"
   ]
  },
  {
   "cell_type": "code",
   "execution_count": 12,
   "id": "e2226b7f",
   "metadata": {},
   "outputs": [],
   "source": [
    "def save_csv(name, df):\n",
    "    with open(file_name, 'w', newline='', encoding='utf-8-sig') as file:\n",
    "        writer = csv.writer(file)\n",
    "        writer.writerow(pd.DataFrame(df).columns)\n",
    "        writer.writerows(pd.DataFrame(df).values)\n",
    "    return f\"Salvo: {file_name}\""
   ]
  },
  {
   "cell_type": "markdown",
   "id": "cc8980ad",
   "metadata": {},
   "source": [
    "## Aqui é chamado a função execute_functions e save_csv\n",
    "- Na função **execute_functions** é **necessário** passar **2 parâmetros**, sendo:\n",
    "  - 1º a palavra/ termo que se deseja buscar (no casso nossas palavras se encontram na lista **list_words**, onde será **necessário alterar** apenas o **index** da lista **list_words[x]**, onde **x é o index**)\n",
    "  - 2º a **quantidade de posts** que se deseja buscar \n",
    "- Na função **save_csv** é **necessáio** passar **2 parâmetros**, sendo:\n",
    "  - 1º o **nome do arquivo** como se deseja **salvar** (nesse caso salvamos todos os arquivos como **TEXTn.csv** e **COMMENTSn.csv**, apenas mudando o número (**n**))\n",
    "  - 2º a lista que se deseja salvar (as mesmas que são **definas** para quando se chamar a função **execute_functions**, em todos os **save_csv** é usado **df_TEXT** e **df_COMMENTS**)\n",
    "  \n",
    "###### Obs: É necessário que execute apenas 1 único execute_functions por vez na mesma página web, pois se executar mais de um, o Instagram banirá a conta por atividade suspeita "
   ]
  },
  {
   "cell_type": "code",
   "execution_count": 13,
   "id": "d2d0332d",
   "metadata": {},
   "outputs": [
    {
     "data": {
      "text/plain": [
       "'df_TEXT, df_COMMENTS = execute_functions(list_words[0], 500)\\n\\ncsv_text = save_csv(\"TEXT0.csv\", df_TEXT)\\ncsv_comments = save_csv(\"COMMENTS0.csv\", df_COMMENTS)'"
      ]
     },
     "execution_count": 13,
     "metadata": {},
     "output_type": "execute_result"
    }
   ],
   "source": [
    "\"\"\"df_TEXT, df_COMMENTS = execute_functions(list_words[0], 500)\n",
    "\n",
    "csv_text = save_csv(\"TEXT0.csv\", df_TEXT)\n",
    "csv_comments = save_csv(\"COMMENTS0.csv\", df_COMMENTS)\"\"\""
   ]
  },
  {
   "cell_type": "code",
   "execution_count": 14,
   "id": "f25f7598",
   "metadata": {},
   "outputs": [
    {
     "data": {
      "text/plain": [
       "'df_TEXT, df_COMMENTS = execute_functions(list_words[1], 500)\\n\\ncsv_text = save_csv(\"TEXT1.csv\", df_TEXT)\\ncsv_comments = save_csv(\"COMMENTS1.csv\", df_COMMENTS)'"
      ]
     },
     "execution_count": 14,
     "metadata": {},
     "output_type": "execute_result"
    }
   ],
   "source": [
    "\"\"\"df_TEXT, df_COMMENTS = execute_functions(list_words[1], 500)\n",
    "\n",
    "csv_text = save_csv(\"TEXT1.csv\", df_TEXT)\n",
    "csv_comments = save_csv(\"COMMENTS1.csv\", df_COMMENTS)\"\"\""
   ]
  },
  {
   "cell_type": "code",
   "execution_count": 15,
   "id": "ccf8004c",
   "metadata": {},
   "outputs": [
    {
     "data": {
      "text/plain": [
       "'df_TEXT, df_COMMENTS = execute_functions(list_words[2], 500)\\n\\ncsv_text = save_csv(\"TEXT2.csv\", df_TEXT)\\ncsv_comments = save_csv(\"COMMENTS2.csv\", df_COMMENTS)'"
      ]
     },
     "execution_count": 15,
     "metadata": {},
     "output_type": "execute_result"
    }
   ],
   "source": [
    "\"\"\"df_TEXT, df_COMMENTS = execute_functions(list_words[2], 500)\n",
    "\n",
    "csv_text = save_csv(\"TEXT2.csv\", df_TEXT)\n",
    "csv_comments = save_csv(\"COMMENTS2.csv\", df_COMMENTS)\"\"\""
   ]
  },
  {
   "cell_type": "code",
   "execution_count": 16,
   "id": "ca401935",
   "metadata": {},
   "outputs": [
    {
     "data": {
      "text/plain": [
       "'df_TEXT, df_COMMENTS = execute_functions(list_words[3], 500)\\n\\ncsv_text = save_csv(\"TEXT3.csv\", df_TEXT)\\ncsv_comments = save_csv(\"COMMENTS3.csv\", df_COMMENTS)'"
      ]
     },
     "execution_count": 16,
     "metadata": {},
     "output_type": "execute_result"
    }
   ],
   "source": [
    "\"\"\"df_TEXT, df_COMMENTS = execute_functions(list_words[3], 500)\n",
    "\n",
    "csv_text = save_csv(\"TEXT3.csv\", df_TEXT)\n",
    "csv_comments = save_csv(\"COMMENTS3.csv\", df_COMMENTS)\"\"\""
   ]
  },
  {
   "cell_type": "code",
   "execution_count": 17,
   "id": "1ba0a983",
   "metadata": {},
   "outputs": [
    {
     "data": {
      "text/plain": [
       "'df_TEXT, df_COMMENTS = execute_functions(list_words[4], 200)\\n\\ncsv_text = save_csv(\"TEXT4.csv\", df_TEXT)\\ncsv_comments = save_csv(\"COMMENTS4.csv\", df_COMMENT)'"
      ]
     },
     "execution_count": 17,
     "metadata": {},
     "output_type": "execute_result"
    }
   ],
   "source": [
    "\"\"\"df_TEXT, df_COMMENTS = execute_functions(list_words[4], 200)\n",
    "\n",
    "csv_text = save_csv(\"TEXT4.csv\", df_TEXT)\n",
    "csv_comments = save_csv(\"COMMENTS4.csv\", df_COMMENT)\"\"\""
   ]
  },
  {
   "cell_type": "code",
   "execution_count": 18,
   "id": "a7cc3928",
   "metadata": {},
   "outputs": [
    {
     "data": {
      "text/plain": [
       "'df_TEXT, df_COMMENTS = execute_functions(list_words[5], 500)\\n\\ncsv_text = save_csv(\"TEXT5.csv\", df_TEXT)\\ncsv_comments = save_csv(\"COMMENTS5.csv\", df_COMMENTS)'"
      ]
     },
     "execution_count": 18,
     "metadata": {},
     "output_type": "execute_result"
    }
   ],
   "source": [
    "\"\"\"df_TEXT, df_COMMENTS = execute_functions(list_words[5], 500)\n",
    "\n",
    "csv_text = save_csv(\"TEXT5.csv\", df_TEXT)\n",
    "csv_comments = save_csv(\"COMMENTS5.csv\", df_COMMENTS)\"\"\""
   ]
  },
  {
   "cell_type": "code",
   "execution_count": 19,
   "id": "7d7965ae",
   "metadata": {},
   "outputs": [
    {
     "data": {
      "text/plain": [
       "'df_TEXT, df_COMMENTS = execute_functions(list_words[6], 1000)\\n\\ncsv_text = save_csv(\"TEXT6.csv\", df_TEXT)\\ncsv_comments = save_csv(\"COMMENTS6.csv\", df_COMMENTS)'"
      ]
     },
     "execution_count": 19,
     "metadata": {},
     "output_type": "execute_result"
    }
   ],
   "source": [
    "\"\"\"df_TEXT, df_COMMENTS = execute_functions(list_words[6], 1000)\n",
    "\n",
    "csv_text = save_csv(\"TEXT6.csv\", df_TEXT)\n",
    "csv_comments = save_csv(\"COMMENTS6.csv\", df_COMMENTS)\"\"\""
   ]
  },
  {
   "cell_type": "code",
   "execution_count": 20,
   "id": "771f8f5f",
   "metadata": {},
   "outputs": [
    {
     "data": {
      "text/plain": [
       "'df_TEXT, df_COMMENTS = execute_functions(list_words[7], 700)\\n\\ncsv_text = save_csv(\"TEXT7.csv\", df_TEXT)\\ncsv_comments = save_csv(\"COMMENTS7.csv\", df_COMMENTS)'"
      ]
     },
     "execution_count": 20,
     "metadata": {},
     "output_type": "execute_result"
    }
   ],
   "source": [
    "\"\"\"df_TEXT, df_COMMENTS = execute_functions(list_words[7], 700)\n",
    "\n",
    "csv_text = save_csv(\"TEXT7.csv\", df_TEXT)\n",
    "csv_comments = save_csv(\"COMMENTS7.csv\", df_COMMENTS)\"\"\""
   ]
  },
  {
   "cell_type": "code",
   "execution_count": 21,
   "id": "70cbde6c",
   "metadata": {},
   "outputs": [
    {
     "data": {
      "text/plain": [
       "'df_TEXT, df_COMMENTS = execute_functions(list_words[8], 150)\\n\\ncsv_text = save_csv(\"TEXT8.csv\", df_TEXT)\\ncsv_comments = save_csv(\"COMMENTS8.csv\", df_COMMENTS)'"
      ]
     },
     "execution_count": 21,
     "metadata": {},
     "output_type": "execute_result"
    }
   ],
   "source": [
    "\"\"\"df_TEXT, df_COMMENTS = execute_functions(list_words[8], 150)\n",
    "\n",
    "csv_text = save_csv(\"TEXT8.csv\", df_TEXT)\n",
    "csv_comments = save_csv(\"COMMENTS8.csv\", df_COMMENTS)\"\"\""
   ]
  },
  {
   "cell_type": "code",
   "execution_count": 22,
   "id": "bd5a0fa3",
   "metadata": {},
   "outputs": [
    {
     "data": {
      "text/plain": [
       "'df_TEXT, df_COMMENTS = execute_functions(list_words[9], 400)\\n\\ncsv_text = save_csv(\"TEXT9.csv\", df_TEXT)\\ncsv_comments = save_csv(\"COMMENTS9.csv\", df_COMMENTS)'"
      ]
     },
     "execution_count": 22,
     "metadata": {},
     "output_type": "execute_result"
    }
   ],
   "source": [
    "\"\"\"df_TEXT, df_COMMENTS = execute_functions(list_words[9], 400)\n",
    "\n",
    "csv_text = save_csv(\"TEXT9.csv\", df_TEXT)\n",
    "csv_comments = save_csv(\"COMMENTS9.csv\", df_COMMENTS)\"\"\""
   ]
  },
  {
   "cell_type": "code",
   "execution_count": 23,
   "id": "4e70a89d",
   "metadata": {},
   "outputs": [
    {
     "name": "stderr",
     "output_type": "stream",
     "text": [
      "Carregando posts: 100%|██████████| 600/600 [07:57<00:00,  1.26it/s]\n"
     ]
    }
   ],
   "source": [
    "\"\"\"df_TEXT, df_COMMENTS = execute_functions(list_words[10], 600)\n",
    "\n",
    "csv_text = save_csv(\"TEXT10.csv\", df_TEXT)\n",
    "csv_comments = save_csv(\"COMMENTS10.csv\", df_COMMENT)\"\"\""
   ]
  },
  {
   "cell_type": "markdown",
   "id": "a9fde00b",
   "metadata": {},
   "source": [
    "## Concatenar todos os arquivos em um único arquivo\n",
    "- O primeiro **for** criára um loop onde irá **ler** todos os arquivos **CSVs** que **começam** com **TEXT**, e adicionar na lista **list_df_TEXT**\n",
    "- O segundo **for** criára um loop onde irá **ler** todos os arquivos **CSVs** que **começam** com **COMMENTS**, e adicionar na lista **list_df_COMMENTS**\n",
    "- Após isso, o **df_concatenated_TEXT** e **df_concatenated_COMMENTS** irão **concatenar** todas as listas salvas dentro de **list_df_TEXT** e **list_df_COMMENTS**\n",
    "- Após isso, foi chamado a função **save_csv** para salavar os **DataFrames concatenados** \n",
    "- Por fim, foi chamado os DataFrames concatenados abaixo, para analisarmos como ficaram"
   ]
  },
  {
   "cell_type": "code",
   "execution_count": 36,
   "id": "3c71e4c9",
   "metadata": {},
   "outputs": [],
   "source": [
    "list_df_TEXT = []\n",
    "for file in range(11):\n",
    "    list_df_TEXT.append(pd.read_csv(f\"TEXT{file}.csv\", sep=',', encoding='utf-8'))\n",
    "    \n",
    "list_df_COMMENTS = []\n",
    "for file in range(11):\n",
    "    list_df_COMMENTS.append(pd.read_csv(f\"COMMENTS{file}.csv\", sep=',', encoding='utf-8'))"
   ]
  },
  {
   "cell_type": "code",
   "execution_count": 46,
   "id": "841286aa",
   "metadata": {},
   "outputs": [],
   "source": [
    "df_concatenated_TEXT = pd.concat(list_df_text).rename(columns={'0': 'TEXT'})\n",
    "df_concatenated_COMMENTS = pd.concat(list_df_COMMENTS).rename(columns={'0': 'COMMENTS'})"
   ]
  },
  {
   "cell_type": "code",
   "execution_count": 47,
   "id": "fe720e9e",
   "metadata": {},
   "outputs": [],
   "source": [
    "csv_TEXT = save_csv(\"df_concatenated_TEXT.csv\", df_concatenated_TEXT)\n",
    "csv_COMMENTS = save_csv(\"df_concatenated_COMMENTS.csv\", df_concatenated_COMMENTS)"
   ]
  },
  {
   "cell_type": "code",
   "execution_count": 49,
   "id": "a7c9d055",
   "metadata": {},
   "outputs": [
    {
     "data": {
      "text/html": [
       "<div>\n",
       "<style scoped>\n",
       "    .dataframe tbody tr th:only-of-type {\n",
       "        vertical-align: middle;\n",
       "    }\n",
       "\n",
       "    .dataframe tbody tr th {\n",
       "        vertical-align: top;\n",
       "    }\n",
       "\n",
       "    .dataframe thead th {\n",
       "        text-align: right;\n",
       "    }\n",
       "</style>\n",
       "<table border=\"1\" class=\"dataframe\">\n",
       "  <thead>\n",
       "    <tr style=\"text-align: right;\">\n",
       "      <th></th>\n",
       "      <th>COMMENTS</th>\n",
       "    </tr>\n",
       "  </thead>\n",
       "  <tbody>\n",
       "    <tr>\n",
       "      <th>0</th>\n",
       "      <td>Amo</td>\n",
       "    </tr>\n",
       "    <tr>\n",
       "      <th>1</th>\n",
       "      <td>🏆🏆🏆</td>\n",
       "    </tr>\n",
       "    <tr>\n",
       "      <th>2</th>\n",
       "      <td>👏😍</td>\n",
       "    </tr>\n",
       "    <tr>\n",
       "      <th>3</th>\n",
       "      <td>😍</td>\n",
       "    </tr>\n",
       "    <tr>\n",
       "      <th>4</th>\n",
       "      <td>Bom dia.😘❤️</td>\n",
       "    </tr>\n",
       "    <tr>\n",
       "      <th>...</th>\n",
       "      <td>...</td>\n",
       "    </tr>\n",
       "    <tr>\n",
       "      <th>1353</th>\n",
       "      <td>Muito boa Vi 😋😋😋, já tinha tentado fazer uma a...</td>\n",
       "    </tr>\n",
       "    <tr>\n",
       "      <th>1354</th>\n",
       "      <td>Olha que delícia 😍😍😋</td>\n",
       "    </tr>\n",
       "    <tr>\n",
       "      <th>1355</th>\n",
       "      <td>Nossa obggg @negahealthy_ 😍😍</td>\n",
       "    </tr>\n",
       "    <tr>\n",
       "      <th>1356</th>\n",
       "      <td>@mari_krunner aqui gatona 😘😘😘</td>\n",
       "    </tr>\n",
       "    <tr>\n",
       "      <th>1357</th>\n",
       "      <td>Olha elaaaa</td>\n",
       "    </tr>\n",
       "  </tbody>\n",
       "</table>\n",
       "<p>5388 rows × 1 columns</p>\n",
       "</div>"
      ],
      "text/plain": [
       "                                               COMMENTS\n",
       "0                                                   Amo\n",
       "1                                                   🏆🏆🏆\n",
       "2                                                    👏😍\n",
       "3                                                     😍\n",
       "4                                           Bom dia.😘❤️\n",
       "...                                                 ...\n",
       "1353  Muito boa Vi 😋😋😋, já tinha tentado fazer uma a...\n",
       "1354                               Olha que delícia 😍😍😋\n",
       "1355                       Nossa obggg @negahealthy_ 😍😍\n",
       "1356                      @mari_krunner aqui gatona 😘😘😘\n",
       "1357                                        Olha elaaaa\n",
       "\n",
       "[5388 rows x 1 columns]"
      ]
     },
     "execution_count": 49,
     "metadata": {},
     "output_type": "execute_result"
    }
   ],
   "source": [
    "df_concatenated_COMMENTS"
   ]
  },
  {
   "cell_type": "code",
   "execution_count": 66,
   "id": "ce74b485",
   "metadata": {},
   "outputs": [
    {
     "data": {
      "text/html": [
       "<div>\n",
       "<style scoped>\n",
       "    .dataframe tbody tr th:only-of-type {\n",
       "        vertical-align: middle;\n",
       "    }\n",
       "\n",
       "    .dataframe tbody tr th {\n",
       "        vertical-align: top;\n",
       "    }\n",
       "\n",
       "    .dataframe thead th {\n",
       "        text-align: right;\n",
       "    }\n",
       "</style>\n",
       "<table border=\"1\" class=\"dataframe\">\n",
       "  <thead>\n",
       "    <tr style=\"text-align: right;\">\n",
       "      <th></th>\n",
       "      <th>COMMENTS</th>\n",
       "    </tr>\n",
       "  </thead>\n",
       "  <tbody>\n",
       "    <tr>\n",
       "      <th>0</th>\n",
       "      <td>Amo</td>\n",
       "    </tr>\n",
       "    <tr>\n",
       "      <th>1</th>\n",
       "      <td>🏆🏆🏆</td>\n",
       "    </tr>\n",
       "    <tr>\n",
       "      <th>2</th>\n",
       "      <td>👏😍</td>\n",
       "    </tr>\n",
       "    <tr>\n",
       "      <th>3</th>\n",
       "      <td>😍</td>\n",
       "    </tr>\n",
       "    <tr>\n",
       "      <th>4</th>\n",
       "      <td>Bom dia.😘❤️</td>\n",
       "    </tr>\n",
       "    <tr>\n",
       "      <th>...</th>\n",
       "      <td>...</td>\n",
       "    </tr>\n",
       "    <tr>\n",
       "      <th>1353</th>\n",
       "      <td>Muito boa Vi 😋😋😋, já tinha tentado fazer uma a...</td>\n",
       "    </tr>\n",
       "    <tr>\n",
       "      <th>1354</th>\n",
       "      <td>Olha que delícia 😍😍😋</td>\n",
       "    </tr>\n",
       "    <tr>\n",
       "      <th>1355</th>\n",
       "      <td>Nossa obggg @negahealthy_ 😍😍</td>\n",
       "    </tr>\n",
       "    <tr>\n",
       "      <th>1356</th>\n",
       "      <td>@mari_krunner aqui gatona 😘😘😘</td>\n",
       "    </tr>\n",
       "    <tr>\n",
       "      <th>1357</th>\n",
       "      <td>Olha elaaaa</td>\n",
       "    </tr>\n",
       "  </tbody>\n",
       "</table>\n",
       "<p>5388 rows × 1 columns</p>\n",
       "</div>"
      ],
      "text/plain": [
       "                                               COMMENTS\n",
       "0                                                   Amo\n",
       "1                                                   🏆🏆🏆\n",
       "2                                                    👏😍\n",
       "3                                                     😍\n",
       "4                                           Bom dia.😘❤️\n",
       "...                                                 ...\n",
       "1353  Muito boa Vi 😋😋😋, já tinha tentado fazer uma a...\n",
       "1354                               Olha que delícia 😍😍😋\n",
       "1355                       Nossa obggg @negahealthy_ 😍😍\n",
       "1356                      @mari_krunner aqui gatona 😘😘😘\n",
       "1357                                        Olha elaaaa\n",
       "\n",
       "[5388 rows x 1 columns]"
      ]
     },
     "execution_count": 66,
     "metadata": {},
     "output_type": "execute_result"
    }
   ],
   "source": [
    "df_concatenated_COMMENTS"
   ]
  }
 ],
 "metadata": {
  "kernelspec": {
   "display_name": "Python 3 (ipykernel)",
   "language": "python",
   "name": "python3"
  },
  "language_info": {
   "codemirror_mode": {
    "name": "ipython",
    "version": 3
   },
   "file_extension": ".py",
   "mimetype": "text/x-python",
   "name": "python",
   "nbconvert_exporter": "python",
   "pygments_lexer": "ipython3",
   "version": "3.11.1"
  }
 },
 "nbformat": 4,
 "nbformat_minor": 5
}
